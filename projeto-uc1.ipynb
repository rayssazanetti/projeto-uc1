{
  "nbformat": 4,
  "nbformat_minor": 0,
  "metadata": {
    "colab": {
      "provenance": []
    },
    "kernelspec": {
      "name": "python3",
      "display_name": "Python 3"
    },
    "language_info": {
      "name": "python"
    }
  },
  "cells": [
    {
      "cell_type": "code",
      "execution_count": null,
      "metadata": {
        "id": "uBV_VzyzsgqC"
      },
      "outputs": [],
      "source": [
        "print(\"calculadora\")\n",
        "print(\"selecionar a opção\")\n",
        "\"print1\"(\" digite Adição\")\n",
        "\"print2\"(\"digite Subtração\")\n",
        "\"print3\"(\"digite Multiplicação\")\n",
        "\"print4\"(\"digite Divisão\")\n",
        "\n",
        "input(\"escolha uma operação\")\n",
        "input(\"escolha a segunda operação\")\n",
        "\n",
        "if input (\"1\",\"2\",\"3\",\"4\"):\n",
        "   print2 = float(input(\"digite o primeiro número\"))\n",
        "   print4 = float(input(\"digite o segundo número\"))\n",
        "\n"
      ]
    },
    {
      "cell_type": "code",
      "source": [],
      "metadata": {
        "id": "jmBMX043KfPZ"
      },
      "execution_count": null,
      "outputs": []
    }
  ]
}